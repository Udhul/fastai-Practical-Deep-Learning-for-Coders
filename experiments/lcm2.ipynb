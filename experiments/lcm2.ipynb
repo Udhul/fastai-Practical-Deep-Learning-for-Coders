{
 "cells": [
  {
   "cell_type": "code",
   "execution_count": null,
   "metadata": {},
   "outputs": [],
   "source": [
    "import torch\n",
    "from diffusers import LCMScheduler, AutoPipelineForText2Image\n",
    "\n",
    "# SD 1.5\n",
    "# model_id = \"Lykon/dreamshaper-7\"\n",
    "# adapter_id = \"latent-consistency/lcm-lora-sdv1-5\"\n",
    "\n",
    "# SDXL\n",
    "model_id = \"stabilityai/stable-diffusion-xl-base-1.0\"\n",
    "adapter_id = \"latent-consistency/lcm-lora-sdxl\"\n",
    "\n",
    "pipe = AutoPipelineForText2Image.from_pretrained(model_id, torch_dtype=torch.float16, variant=\"fp16\")\n",
    "pipe.scheduler = LCMScheduler.from_config(pipe.scheduler.config)\n",
    "pipe.to(\"cuda\")\n",
    "\n",
    "# load and fuse lcm lora\n",
    "pipe.load_lora_weights(adapter_id)\n",
    "pipe.fuse_lora()\n",
    "\n",
    "\n",
    "prompt = \"Self-portrait oil painting, a beautiful cyborg with golden hair, 8k\"\n",
    "\n",
    "# disable guidance_scale by passing 0\n",
    "image = pipe(prompt=prompt, num_inference_steps=4, guidance_scale=0).images[0]\n",
    "image.show()"
   ]
  }
 ],
 "metadata": {
  "kernelspec": {
   "display_name": ".venv",
   "language": "python",
   "name": "python3"
  },
  "language_info": {
   "codemirror_mode": {
    "name": "ipython",
    "version": 3
   },
   "file_extension": ".py",
   "mimetype": "text/x-python",
   "name": "python",
   "nbconvert_exporter": "python",
   "pygments_lexer": "ipython3",
   "version": "3.10.9"
  }
 },
 "nbformat": 4,
 "nbformat_minor": 2
}
